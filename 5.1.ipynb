{
 "cells": [
  {
   "cell_type": "code",
   "execution_count": 2,
   "metadata": {},
   "outputs": [
    {
     "name": "stdout",
     "output_type": "stream",
     "text": [
      "(8.006066246262538, 0.045886500891747214, 3, array([[48.13164557, 49.11392405, 48.62278481, 48.13164557],\n",
      "       [49.86835443, 50.88607595, 50.37721519, 49.86835443]]))\n",
      "So the education level depends on Gender at a 5% level of significance\n"
     ]
    }
   ],
   "source": [
    "#5.1\n",
    "import numpy as np\n",
    "import pandas as pd\n",
    "from scipy.stats import chi2_contingency\n",
    "\n",
    "data = {\"Gender\": [\"Female\", \"Male\"],\n",
    "        \"Highschool\": [60, 40],\n",
    "        \"Bachelors\": [54, 44],\n",
    "        \"Masters\": [46, 53],\n",
    "        \"Phd\": [41, 57]}\n",
    "df= pd.DataFrame(data)\n",
    "df.set_index('Gender', inplace=True)\n",
    "male=df[1:]\n",
    "female=df[0:1]\n",
    "m=np.asarray(male)[0]\n",
    "f=np.asarray(female)[0]\n",
    "x=chi2_contingency([m,f])\n",
    "print(x)\n",
    "#XCritical = 7.815 (Based on DegreeOfFreedom=3 and Alpha=5%)\n",
    "#Since Chisquare(8.006) value is greater than ChiCritical value we reject the Null Hypothesis\n",
    "print(\"So the education level depends on Gender at a 5% level of significance\")"
   ]
  },
  {
   "cell_type": "code",
   "execution_count": null,
   "metadata": {},
   "outputs": [],
   "source": []
  }
 ],
 "metadata": {
  "kernelspec": {
   "display_name": "Python 3",
   "language": "python",
   "name": "python3"
  },
  "language_info": {
   "codemirror_mode": {
    "name": "ipython",
    "version": 3
   },
   "file_extension": ".py",
   "mimetype": "text/x-python",
   "name": "python",
   "nbconvert_exporter": "python",
   "pygments_lexer": "ipython3",
   "version": "3.6.4"
  }
 },
 "nbformat": 4,
 "nbformat_minor": 2
}
